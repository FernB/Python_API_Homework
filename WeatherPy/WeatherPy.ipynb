{
 "cells": [
  {
   "cell_type": "markdown",
   "metadata": {},
   "source": [
    "# WeatherPy\n",
    "----\n",
    "\n",
    "#### Note\n",
    "* Instructions have been included for each segment. You do not have to follow them exactly, but they are included to help you think through the steps."
   ]
  },
  {
   "cell_type": "code",
   "execution_count": 2,
   "metadata": {
    "scrolled": true
   },
   "outputs": [],
   "source": [
    "#Dependencies\n",
    "import requests\n",
    "import random\n",
    "import numpy as np\n",
    "import pandas as pd\n",
    "from citipy import citipy\n",
    "# Import API key\n",
    "from api_keys import weather_api_key\n",
    "\n"
   ]
  },
  {
   "cell_type": "markdown",
   "metadata": {},
   "source": [
    "## Generate Cities List"
   ]
  },
  {
   "cell_type": "code",
   "execution_count": 3,
   "metadata": {},
   "outputs": [
    {
     "name": "stdout",
     "output_type": "stream",
     "text": [
      "['vaini', 'sterling', 'fortuna', 'bhanjanagar', 'mar del plata', 'baherden', 'san vicente', 'canjulao', 'lacombe', 'leningradskiy']\n"
     ]
    },
    {
     "data": {
      "text/plain": [
       "10"
      ]
     },
     "execution_count": 3,
     "metadata": {},
     "output_type": "execute_result"
    }
   ],
   "source": [
    "#lat south - 90 eq 0 north 90 55 139   21\n",
    "#long -180 to 180\n",
    "cities = []\n",
    "while len(cities) < 10:\n",
    "    lat = round(np.random.uniform(-90.0, 90.0),2)\n",
    "    lon = round(np.random.uniform(-180.0, 180.0),2)\n",
    "    city = citipy.nearest_city(lat, lon).city_name\n",
    "    cities.append(city)\n",
    "    cities = list(set(cities))\n",
    "print(cities)\n",
    "len(list(set(cities)))"
   ]
  },
  {
   "cell_type": "markdown",
   "metadata": {},
   "source": [
    "### Perform API Calls\n",
    "* Perform a weather check on each city using a series of successive API calls.\n",
    "* Include a print log of each city as it'sbeing processed (with the city number and city name).\n"
   ]
  },
  {
   "cell_type": "code",
   "execution_count": null,
   "metadata": {},
   "outputs": [],
   "source": []
  },
  {
   "cell_type": "code",
   "execution_count": 16,
   "metadata": {
    "scrolled": true
   },
   "outputs": [
    {
     "name": "stdout",
     "output_type": "stream",
     "text": [
      "Begining of data retrieval/n-----------------\n",
      "Processing Record 1 of Set 10 | vaini\n",
      "Processing Record 2 of Set 10 | sterling\n",
      "Processing Record 3 of Set 10 | fortuna\n",
      "Processing Record 4 of Set 10 | bhanjanagar\n",
      "Processing Record 5 of Set 10 | mar del plata\n",
      "Processing Record 6 of Set 10 | baherden\n",
      "Processing Record 7 of Set 10 | san vicente\n",
      "Processing Record 8 of Set 10 | canjulao\n",
      "Processing Record 9 of Set 10 | lacombe\n",
      "Processing Record 10 of Set 10 | leningradskiy\n"
     ]
    }
   ],
   "source": [
    "\n",
    "print(\"Begining of data retrieval/n-----------------\")\n",
    "cities2 = []\n",
    "lat = []\n",
    "lon = []\n",
    "maxtemp = []\n",
    "humidity = []\n",
    "cloudiness =[]\n",
    "wind = []\n",
    "country = []\n",
    "date = []\n",
    "i = 1\n",
    "for city in cities:\n",
    "\n",
    "        \n",
    "    url = f\"http://api.openweathermap.org/data/2.5/weather?q={city}&units=metric&appid={weather_api_key}\"\n",
    "    #print(url)   \n",
    "    data = requests.get(url).json()\n",
    "\n",
    "    \n",
    "    try:  \n",
    "        print(f\"Processing Record {i} of Set {len(cities)} | {city}\")\n",
    "        cities2.append(city)\n",
    "        lat.append(data[\"coord\"][\"lat\"])\n",
    "        lon.append(data[\"coord\"][\"lat\"])\n",
    "        maxtemp.append(data[\"main\"][\"temp_max\"])\n",
    "        humidity.append(data[\"main\"][\"humidity\"])\n",
    "        cloudiness.append(data[\"clouds\"][\"all\"])\n",
    "        wind.append(data[\"wind\"][\"speed\"])\n",
    "        country.append(data[\"sys\"][\"country\"])\n",
    "        date.append(data[\"dt\"])\n",
    "        i +=1\n",
    "    except: \n",
    "        message = data[\"message\"]\n",
    "        print(f\"{message.capitalize()}. Skipping...\")      \n",
    "        \n",
    "citiesdata = {\n",
    "    'City': cities2,\n",
    "    'Lat': lat, \n",
    "    'Lng': lon, \n",
    "    \"Max Temp\" : maxtemp, \n",
    "    \"Humidity\" : humidity, \n",
    "    \"Cloudiness\" : cloudiness, \n",
    "    \"Wind Speed\": wind, \n",
    "    \"Country\": country,\n",
    "    \"Date\" : date\n",
    "}\n",
    "# \"cod\":200\n",
    "\n",
    "# {\"cod\":\"404\",\"message\":\"city not found\"}"
   ]
  },
  {
   "cell_type": "markdown",
   "metadata": {},
   "source": [
    "### Convert Raw Data to DataFrame\n",
    "* Export the city data into a .csv.\n",
    "* Display the DataFrame"
   ]
  },
  {
   "cell_type": "code",
   "execution_count": null,
   "metadata": {},
   "outputs": [],
   "source": [
    "print(cities)\n",
    "print(citiesdata)"
   ]
  },
  {
   "cell_type": "code",
   "execution_count": 17,
   "metadata": {},
   "outputs": [
    {
     "data": {
      "text/html": [
       "<div>\n",
       "<style scoped>\n",
       "    .dataframe tbody tr th:only-of-type {\n",
       "        vertical-align: middle;\n",
       "    }\n",
       "\n",
       "    .dataframe tbody tr th {\n",
       "        vertical-align: top;\n",
       "    }\n",
       "\n",
       "    .dataframe thead th {\n",
       "        text-align: right;\n",
       "    }\n",
       "</style>\n",
       "<table border=\"1\" class=\"dataframe\">\n",
       "  <thead>\n",
       "    <tr style=\"text-align: right;\">\n",
       "      <th></th>\n",
       "      <th>City</th>\n",
       "      <th>Lat</th>\n",
       "      <th>Lng</th>\n",
       "      <th>Max Temp</th>\n",
       "      <th>Humidity</th>\n",
       "      <th>Cloudiness</th>\n",
       "      <th>Wind Speed</th>\n",
       "      <th>Country</th>\n",
       "      <th>Date</th>\n",
       "    </tr>\n",
       "  </thead>\n",
       "  <tbody>\n",
       "    <tr>\n",
       "      <th>0</th>\n",
       "      <td>vaini</td>\n",
       "      <td>-21.2000</td>\n",
       "      <td>-21.2000</td>\n",
       "      <td>20.00</td>\n",
       "      <td>94</td>\n",
       "      <td>20</td>\n",
       "      <td>2.22</td>\n",
       "      <td>TO</td>\n",
       "      <td>1618407795</td>\n",
       "    </tr>\n",
       "    <tr>\n",
       "      <th>1</th>\n",
       "      <td>sterling</td>\n",
       "      <td>39.0062</td>\n",
       "      <td>39.0062</td>\n",
       "      <td>16.67</td>\n",
       "      <td>82</td>\n",
       "      <td>75</td>\n",
       "      <td>2.57</td>\n",
       "      <td>US</td>\n",
       "      <td>1618407795</td>\n",
       "    </tr>\n",
       "    <tr>\n",
       "      <th>2</th>\n",
       "      <td>fortuna</td>\n",
       "      <td>40.5982</td>\n",
       "      <td>40.5982</td>\n",
       "      <td>3.00</td>\n",
       "      <td>93</td>\n",
       "      <td>1</td>\n",
       "      <td>4.12</td>\n",
       "      <td>US</td>\n",
       "      <td>1618407796</td>\n",
       "    </tr>\n",
       "    <tr>\n",
       "      <th>3</th>\n",
       "      <td>bhanjanagar</td>\n",
       "      <td>19.9333</td>\n",
       "      <td>19.9333</td>\n",
       "      <td>31.46</td>\n",
       "      <td>39</td>\n",
       "      <td>93</td>\n",
       "      <td>1.65</td>\n",
       "      <td>IN</td>\n",
       "      <td>1618407796</td>\n",
       "    </tr>\n",
       "    <tr>\n",
       "      <th>4</th>\n",
       "      <td>mar del plata</td>\n",
       "      <td>-38.0023</td>\n",
       "      <td>-38.0023</td>\n",
       "      <td>19.44</td>\n",
       "      <td>88</td>\n",
       "      <td>0</td>\n",
       "      <td>2.06</td>\n",
       "      <td>AR</td>\n",
       "      <td>1618407796</td>\n",
       "    </tr>\n",
       "  </tbody>\n",
       "</table>\n",
       "</div>"
      ],
      "text/plain": [
       "            City      Lat      Lng  Max Temp  Humidity  Cloudiness  \\\n",
       "0          vaini -21.2000 -21.2000     20.00        94          20   \n",
       "1       sterling  39.0062  39.0062     16.67        82          75   \n",
       "2        fortuna  40.5982  40.5982      3.00        93           1   \n",
       "3    bhanjanagar  19.9333  19.9333     31.46        39          93   \n",
       "4  mar del plata -38.0023 -38.0023     19.44        88           0   \n",
       "\n",
       "   Wind Speed Country        Date  \n",
       "0        2.22      TO  1618407795  \n",
       "1        2.57      US  1618407795  \n",
       "2        4.12      US  1618407796  \n",
       "3        1.65      IN  1618407796  \n",
       "4        2.06      AR  1618407796  "
      ]
     },
     "execution_count": 17,
     "metadata": {},
     "output_type": "execute_result"
    }
   ],
   "source": [
    "df1 = pd.DataFrame(citiesdata)\n",
    "df1.head()"
   ]
  },
  {
   "cell_type": "code",
   "execution_count": null,
   "metadata": {},
   "outputs": [],
   "source": []
  },
  {
   "cell_type": "markdown",
   "metadata": {},
   "source": [
    "## Inspect the data and remove the cities where the humidity > 100%.\n",
    "----\n",
    "Skip this step if there are no cities that have humidity > 100%. "
   ]
  },
  {
   "cell_type": "code",
   "execution_count": 28,
   "metadata": {},
   "outputs": [],
   "source": [
    "if len(df1[df1[\"Humidity\"]>90]) == 0:\n",
    "    print(0)\n",
    "else:\n",
    "    over100 = (df1[df1[\"Humidity\"]>90]).index.tolist()"
   ]
  },
  {
   "cell_type": "code",
   "execution_count": null,
   "metadata": {},
   "outputs": [],
   "source": [
    "#  Get the indices of cities that have humidity over 100%.\n",
    "\n",
    "    "
   ]
  },
  {
   "cell_type": "code",
   "execution_count": null,
   "metadata": {},
   "outputs": [],
   "source": [
    "# Make a new DataFrame equal to the city data to drop all humidity outliers by index.\n",
    "# Passing \"inplace=False\" will make a copy of the city_data DataFrame, which we call \"clean_city_data\".\n",
    "def humidityoutliers():\n",
    "    clean_city_data = df."
   ]
  },
  {
   "cell_type": "code",
   "execution_count": null,
   "metadata": {},
   "outputs": [],
   "source": [
    "\n"
   ]
  },
  {
   "cell_type": "markdown",
   "metadata": {},
   "source": [
    "## Plotting the Data\n",
    "* Use proper labeling of the plots using plot titles (including date of analysis) and axes labels.\n",
    "* Save the plotted figures as .pngs."
   ]
  },
  {
   "cell_type": "markdown",
   "metadata": {},
   "source": [
    "## Latitude vs. Temperature Plot"
   ]
  },
  {
   "cell_type": "code",
   "execution_count": null,
   "metadata": {
    "scrolled": true
   },
   "outputs": [],
   "source": []
  },
  {
   "cell_type": "markdown",
   "metadata": {},
   "source": [
    "## Latitude vs. Humidity Plot"
   ]
  },
  {
   "cell_type": "code",
   "execution_count": null,
   "metadata": {},
   "outputs": [],
   "source": []
  },
  {
   "cell_type": "markdown",
   "metadata": {},
   "source": [
    "## Latitude vs. Cloudiness Plot"
   ]
  },
  {
   "cell_type": "code",
   "execution_count": null,
   "metadata": {},
   "outputs": [],
   "source": []
  },
  {
   "cell_type": "markdown",
   "metadata": {},
   "source": [
    "## Latitude vs. Wind Speed Plot"
   ]
  },
  {
   "cell_type": "code",
   "execution_count": null,
   "metadata": {},
   "outputs": [],
   "source": []
  },
  {
   "cell_type": "markdown",
   "metadata": {},
   "source": [
    "## Linear Regression"
   ]
  },
  {
   "cell_type": "code",
   "execution_count": null,
   "metadata": {},
   "outputs": [],
   "source": []
  },
  {
   "cell_type": "markdown",
   "metadata": {},
   "source": [
    "####  Northern Hemisphere - Max Temp vs. Latitude Linear Regression"
   ]
  },
  {
   "cell_type": "code",
   "execution_count": null,
   "metadata": {},
   "outputs": [],
   "source": []
  },
  {
   "cell_type": "markdown",
   "metadata": {},
   "source": [
    "####  Southern Hemisphere - Max Temp vs. Latitude Linear Regression"
   ]
  },
  {
   "cell_type": "code",
   "execution_count": null,
   "metadata": {},
   "outputs": [],
   "source": []
  },
  {
   "cell_type": "markdown",
   "metadata": {},
   "source": [
    "####  Northern Hemisphere - Humidity (%) vs. Latitude Linear Regression"
   ]
  },
  {
   "cell_type": "code",
   "execution_count": null,
   "metadata": {},
   "outputs": [],
   "source": []
  },
  {
   "cell_type": "markdown",
   "metadata": {},
   "source": [
    "####  Southern Hemisphere - Humidity (%) vs. Latitude Linear Regression"
   ]
  },
  {
   "cell_type": "code",
   "execution_count": null,
   "metadata": {},
   "outputs": [],
   "source": []
  },
  {
   "cell_type": "markdown",
   "metadata": {},
   "source": [
    "####  Northern Hemisphere - Cloudiness (%) vs. Latitude Linear Regression"
   ]
  },
  {
   "cell_type": "code",
   "execution_count": null,
   "metadata": {},
   "outputs": [],
   "source": []
  },
  {
   "cell_type": "markdown",
   "metadata": {},
   "source": [
    "####  Southern Hemisphere - Cloudiness (%) vs. Latitude Linear Regression"
   ]
  },
  {
   "cell_type": "code",
   "execution_count": null,
   "metadata": {},
   "outputs": [],
   "source": []
  },
  {
   "cell_type": "markdown",
   "metadata": {},
   "source": [
    "####  Northern Hemisphere - Wind Speed (mph) vs. Latitude Linear Regression"
   ]
  },
  {
   "cell_type": "code",
   "execution_count": null,
   "metadata": {},
   "outputs": [],
   "source": []
  },
  {
   "cell_type": "markdown",
   "metadata": {},
   "source": [
    "####  Southern Hemisphere - Wind Speed (mph) vs. Latitude Linear Regression"
   ]
  },
  {
   "cell_type": "code",
   "execution_count": null,
   "metadata": {},
   "outputs": [],
   "source": []
  },
  {
   "cell_type": "code",
   "execution_count": null,
   "metadata": {},
   "outputs": [],
   "source": []
  }
 ],
 "metadata": {
  "anaconda-cloud": {},
  "kernel_info": {
   "name": "python3"
  },
  "kernelspec": {
   "display_name": "Python 3",
   "language": "python",
   "name": "python3"
  },
  "language_info": {
   "codemirror_mode": {
    "name": "ipython",
    "version": 3
   },
   "file_extension": ".py",
   "mimetype": "text/x-python",
   "name": "python",
   "nbconvert_exporter": "python",
   "pygments_lexer": "ipython3",
   "version": "3.8.5"
  },
  "latex_envs": {
   "LaTeX_envs_menu_present": true,
   "autoclose": false,
   "autocomplete": true,
   "bibliofile": "biblio.bib",
   "cite_by": "apalike",
   "current_citInitial": 1,
   "eqLabelWithNumbers": true,
   "eqNumInitial": 1,
   "hotkeys": {
    "equation": "Ctrl-E",
    "itemize": "Ctrl-I"
   },
   "labels_anchors": false,
   "latex_user_defs": false,
   "report_style_numbering": false,
   "user_envs_cfg": false
  },
  "nteract": {
   "version": "0.12.3"
  }
 },
 "nbformat": 4,
 "nbformat_minor": 2
}
