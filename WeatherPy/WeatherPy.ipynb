{
 "cells": [
  {
   "cell_type": "markdown",
   "metadata": {},
   "source": [
    "# WeatherPy\n",
    "----\n",
    "\n",
    "#### Note\n",
    "* Instructions have been included for each segment. You do not have to follow them exactly, but they are included to help you think through the steps."
   ]
  },
  {
   "cell_type": "code",
   "execution_count": 1,
   "metadata": {
    "scrolled": true
   },
   "outputs": [],
   "source": [
    "#Dependencies\n",
    "import requests\n",
    "import random\n",
    "import numpy as np\n",
    "import pandas as pd\n",
    "from citipy import citipy\n",
    "# Import API key\n",
    "from api_keys import weather_api_key\n"
   ]
  },
  {
   "cell_type": "markdown",
   "metadata": {},
   "source": [
    "## Generate Cities List"
   ]
  },
  {
   "cell_type": "code",
   "execution_count": 2,
   "metadata": {},
   "outputs": [
    {
     "name": "stdout",
     "output_type": "stream",
     "text": [
      "['albany', 'busselton', 'barrow', 'bluff', 'bua yai', 'katete', 'ushuaia', 'avarua', 'new norfolk', 'sungaipenuh']\n"
     ]
    },
    {
     "data": {
      "text/plain": [
       "10"
      ]
     },
     "execution_count": 2,
     "metadata": {},
     "output_type": "execute_result"
    }
   ],
   "source": [
    "#lat south - 90 eq 0 north 90 55 139   21\n",
    "#long -180 to 180\n",
    "cities = []\n",
    "while len(cities) < 10:\n",
    "    lat = round(np.random.uniform(-90.0, 90.0),2)\n",
    "    lon = round(np.random.uniform(-180.0, 180.0),2)\n",
    "    city = citipy.nearest_city(lat, lon).city_name\n",
    "    cities.append(city)\n",
    "    cities = list(set(cities))\n",
    "print(cities)\n",
    "len(list(set(cities)))"
   ]
  },
  {
   "cell_type": "markdown",
   "metadata": {},
   "source": [
    "### Perform API Calls\n",
    "* Perform a weather check on each city using a series of successive API calls.\n",
    "* Include a print log of each city as it'sbeing processed (with the city number and city name).\n"
   ]
  },
  {
   "cell_type": "code",
   "execution_count": null,
   "metadata": {},
   "outputs": [],
   "source": []
  },
  {
   "cell_type": "code",
   "execution_count": 3,
   "metadata": {
    "scrolled": true
   },
   "outputs": [
    {
     "name": "stdout",
     "output_type": "stream",
     "text": [
      "Begining of data retrieval/n-----------------\n",
      "Processing Record 1 of Set 10 | albany\n",
      "Processing Record 2 of Set 10 | busselton\n",
      "Processing Record 3 of Set 10 | barrow\n",
      "Processing Record 4 of Set 10 | bluff\n",
      "Processing Record 5 of Set 10 | bua yai\n",
      "Processing Record 6 of Set 10 | katete\n",
      "Processing Record 7 of Set 10 | ushuaia\n",
      "Processing Record 8 of Set 10 | avarua\n",
      "Processing Record 9 of Set 10 | new norfolk\n",
      "Processing Record 10 of Set 10 | sungaipenuh\n"
     ]
    }
   ],
   "source": [
    "\n",
    "print(\"Begining of data retrieval/n-----------------\")\n",
    "\n",
    "lat = []\n",
    "lon = []\n",
    "maxtemp = []\n",
    "humidity = []\n",
    "cloudiness =[]\n",
    "wind = []\n",
    "country = []\n",
    "date = []\n",
    "i = 1\n",
    "for city in cities:\n",
    "\n",
    "        \n",
    "    url = f\"http://api.openweathermap.org/data/2.5/weather?q={city}&units=metric&appid={weather_api_key}\"\n",
    "    #print(url)   \n",
    "    data = requests.get(url).json()\n",
    "    if data[\"cod\"] == \"404\":\n",
    "        message = data[\"message\"]\n",
    "        print(f\"{message.capitalize()}. Skipping...\")\n",
    "    \n",
    "    else:  \n",
    "        print(f\"Processing Record {i} of Set {len(cities)} | {city}\")\n",
    "        \n",
    "        lat.append(data[\"coord\"][\"lat\"])\n",
    "        lon.append(data[\"coord\"][\"lat\"])\n",
    "        maxtemp.append(data[\"main\"][\"temp_max\"])\n",
    "        humidity.append(data[\"main\"][\"humidity\"])\n",
    "        cloudiness.append(data[\"clouds\"][\"all\"])\n",
    "        wind.append(data[\"wind\"][\"speed\"])\n",
    "        country.append(data[\"sys\"][\"country\"])\n",
    "        date.append(data[\"dt\"])\n",
    "        i +=1\n",
    "citiesdata = {\n",
    "    'City': cities,\n",
    "    'Lat': lat, \n",
    "    'Lng': lon, \n",
    "    \"Max Temp\" : maxtemp, \n",
    "    \"Humidity\" : humidity, \n",
    "    \"Cloudiness\" : cloudiness, \n",
    "    \"Wind Speed\": wind, \n",
    "    \"Country\": country,\n",
    "    \"Date\" : date\n",
    "}\n",
    "# \"cod\":200\n",
    "\n",
    "# {\"cod\":\"404\",\"message\":\"city not found\"}"
   ]
  },
  {
   "cell_type": "markdown",
   "metadata": {},
   "source": [
    "### Convert Raw Data to DataFrame\n",
    "* Export the city data into a .csv.\n",
    "* Display the DataFrame"
   ]
  },
  {
   "cell_type": "code",
   "execution_count": null,
   "metadata": {},
   "outputs": [],
   "source": []
  },
  {
   "cell_type": "code",
   "execution_count": 5,
   "metadata": {},
   "outputs": [
    {
     "data": {
      "text/html": [
       "<div>\n",
       "<style scoped>\n",
       "    .dataframe tbody tr th:only-of-type {\n",
       "        vertical-align: middle;\n",
       "    }\n",
       "\n",
       "    .dataframe tbody tr th {\n",
       "        vertical-align: top;\n",
       "    }\n",
       "\n",
       "    .dataframe thead th {\n",
       "        text-align: right;\n",
       "    }\n",
       "</style>\n",
       "<table border=\"1\" class=\"dataframe\">\n",
       "  <thead>\n",
       "    <tr style=\"text-align: right;\">\n",
       "      <th></th>\n",
       "      <th>lat</th>\n",
       "      <th>lon</th>\n",
       "      <th>maxtemp</th>\n",
       "      <th>humidity</th>\n",
       "      <th>cloudiness</th>\n",
       "      <th>wind</th>\n",
       "      <th>country</th>\n",
       "      <th>date</th>\n",
       "    </tr>\n",
       "  </thead>\n",
       "  <tbody>\n",
       "    <tr>\n",
       "      <th>0</th>\n",
       "      <td>42.6001</td>\n",
       "      <td>42.6001</td>\n",
       "      <td>10.56</td>\n",
       "      <td>82</td>\n",
       "      <td>47</td>\n",
       "      <td>1.47</td>\n",
       "      <td>US</td>\n",
       "      <td>1618394581</td>\n",
       "    </tr>\n",
       "    <tr>\n",
       "      <th>1</th>\n",
       "      <td>-33.6500</td>\n",
       "      <td>-33.6500</td>\n",
       "      <td>16.67</td>\n",
       "      <td>69</td>\n",
       "      <td>15</td>\n",
       "      <td>5.34</td>\n",
       "      <td>AU</td>\n",
       "      <td>1618394515</td>\n",
       "    </tr>\n",
       "    <tr>\n",
       "      <th>2</th>\n",
       "      <td>71.2906</td>\n",
       "      <td>71.2906</td>\n",
       "      <td>-14.00</td>\n",
       "      <td>78</td>\n",
       "      <td>1</td>\n",
       "      <td>4.12</td>\n",
       "      <td>US</td>\n",
       "      <td>1618394334</td>\n",
       "    </tr>\n",
       "    <tr>\n",
       "      <th>3</th>\n",
       "      <td>-46.6000</td>\n",
       "      <td>-46.6000</td>\n",
       "      <td>10.56</td>\n",
       "      <td>93</td>\n",
       "      <td>99</td>\n",
       "      <td>1.68</td>\n",
       "      <td>NZ</td>\n",
       "      <td>1618394424</td>\n",
       "    </tr>\n",
       "    <tr>\n",
       "      <th>4</th>\n",
       "      <td>15.5855</td>\n",
       "      <td>15.5855</td>\n",
       "      <td>34.66</td>\n",
       "      <td>39</td>\n",
       "      <td>89</td>\n",
       "      <td>6.26</td>\n",
       "      <td>TH</td>\n",
       "      <td>1618394582</td>\n",
       "    </tr>\n",
       "  </tbody>\n",
       "</table>\n",
       "</div>"
      ],
      "text/plain": [
       "       lat      lon  maxtemp  humidity  cloudiness  wind country        date\n",
       "0  42.6001  42.6001    10.56        82          47  1.47      US  1618394581\n",
       "1 -33.6500 -33.6500    16.67        69          15  5.34      AU  1618394515\n",
       "2  71.2906  71.2906   -14.00        78           1  4.12      US  1618394334\n",
       "3 -46.6000 -46.6000    10.56        93          99  1.68      NZ  1618394424\n",
       "4  15.5855  15.5855    34.66        39          89  6.26      TH  1618394582"
      ]
     },
     "execution_count": 5,
     "metadata": {},
     "output_type": "execute_result"
    }
   ],
   "source": [
    "df1 = pd.DataFrame(citiesdata)\n",
    "df1.head()"
   ]
  },
  {
   "cell_type": "code",
   "execution_count": null,
   "metadata": {},
   "outputs": [],
   "source": []
  },
  {
   "cell_type": "markdown",
   "metadata": {},
   "source": [
    "## Inspect the data and remove the cities where the humidity > 100%.\n",
    "----\n",
    "Skip this step if there are no cities that have humidity > 100%. "
   ]
  },
  {
   "cell_type": "code",
   "execution_count": null,
   "metadata": {},
   "outputs": [],
   "source": []
  },
  {
   "cell_type": "code",
   "execution_count": null,
   "metadata": {},
   "outputs": [],
   "source": [
    "#  Get the indices of cities that have humidity over 100%.\n",
    "\n",
    "    "
   ]
  },
  {
   "cell_type": "code",
   "execution_count": null,
   "metadata": {},
   "outputs": [],
   "source": [
    "# Make a new DataFrame equal to the city data to drop all humidity outliers by index.\n",
    "# Passing \"inplace=False\" will make a copy of the city_data DataFrame, which we call \"clean_city_data\".\n",
    "def humidityoutliers():\n",
    "    clean_city_data = df."
   ]
  },
  {
   "cell_type": "code",
   "execution_count": null,
   "metadata": {},
   "outputs": [],
   "source": [
    "\n"
   ]
  },
  {
   "cell_type": "markdown",
   "metadata": {},
   "source": [
    "## Plotting the Data\n",
    "* Use proper labeling of the plots using plot titles (including date of analysis) and axes labels.\n",
    "* Save the plotted figures as .pngs."
   ]
  },
  {
   "cell_type": "markdown",
   "metadata": {},
   "source": [
    "## Latitude vs. Temperature Plot"
   ]
  },
  {
   "cell_type": "code",
   "execution_count": null,
   "metadata": {
    "scrolled": true
   },
   "outputs": [],
   "source": []
  },
  {
   "cell_type": "markdown",
   "metadata": {},
   "source": [
    "## Latitude vs. Humidity Plot"
   ]
  },
  {
   "cell_type": "code",
   "execution_count": null,
   "metadata": {},
   "outputs": [],
   "source": []
  },
  {
   "cell_type": "markdown",
   "metadata": {},
   "source": [
    "## Latitude vs. Cloudiness Plot"
   ]
  },
  {
   "cell_type": "code",
   "execution_count": null,
   "metadata": {},
   "outputs": [],
   "source": []
  },
  {
   "cell_type": "markdown",
   "metadata": {},
   "source": [
    "## Latitude vs. Wind Speed Plot"
   ]
  },
  {
   "cell_type": "code",
   "execution_count": null,
   "metadata": {},
   "outputs": [],
   "source": []
  },
  {
   "cell_type": "markdown",
   "metadata": {},
   "source": [
    "## Linear Regression"
   ]
  },
  {
   "cell_type": "code",
   "execution_count": null,
   "metadata": {},
   "outputs": [],
   "source": []
  },
  {
   "cell_type": "markdown",
   "metadata": {},
   "source": [
    "####  Northern Hemisphere - Max Temp vs. Latitude Linear Regression"
   ]
  },
  {
   "cell_type": "code",
   "execution_count": null,
   "metadata": {},
   "outputs": [],
   "source": []
  },
  {
   "cell_type": "markdown",
   "metadata": {},
   "source": [
    "####  Southern Hemisphere - Max Temp vs. Latitude Linear Regression"
   ]
  },
  {
   "cell_type": "code",
   "execution_count": null,
   "metadata": {},
   "outputs": [],
   "source": []
  },
  {
   "cell_type": "markdown",
   "metadata": {},
   "source": [
    "####  Northern Hemisphere - Humidity (%) vs. Latitude Linear Regression"
   ]
  },
  {
   "cell_type": "code",
   "execution_count": null,
   "metadata": {},
   "outputs": [],
   "source": []
  },
  {
   "cell_type": "markdown",
   "metadata": {},
   "source": [
    "####  Southern Hemisphere - Humidity (%) vs. Latitude Linear Regression"
   ]
  },
  {
   "cell_type": "code",
   "execution_count": null,
   "metadata": {},
   "outputs": [],
   "source": []
  },
  {
   "cell_type": "markdown",
   "metadata": {},
   "source": [
    "####  Northern Hemisphere - Cloudiness (%) vs. Latitude Linear Regression"
   ]
  },
  {
   "cell_type": "code",
   "execution_count": null,
   "metadata": {},
   "outputs": [],
   "source": []
  },
  {
   "cell_type": "markdown",
   "metadata": {},
   "source": [
    "####  Southern Hemisphere - Cloudiness (%) vs. Latitude Linear Regression"
   ]
  },
  {
   "cell_type": "code",
   "execution_count": null,
   "metadata": {},
   "outputs": [],
   "source": []
  },
  {
   "cell_type": "markdown",
   "metadata": {},
   "source": [
    "####  Northern Hemisphere - Wind Speed (mph) vs. Latitude Linear Regression"
   ]
  },
  {
   "cell_type": "code",
   "execution_count": null,
   "metadata": {},
   "outputs": [],
   "source": []
  },
  {
   "cell_type": "markdown",
   "metadata": {},
   "source": [
    "####  Southern Hemisphere - Wind Speed (mph) vs. Latitude Linear Regression"
   ]
  },
  {
   "cell_type": "code",
   "execution_count": null,
   "metadata": {},
   "outputs": [],
   "source": []
  },
  {
   "cell_type": "code",
   "execution_count": null,
   "metadata": {},
   "outputs": [],
   "source": []
  }
 ],
 "metadata": {
  "anaconda-cloud": {},
  "kernel_info": {
   "name": "python3"
  },
  "kernelspec": {
   "display_name": "Python 3",
   "language": "python",
   "name": "python3"
  },
  "language_info": {
   "codemirror_mode": {
    "name": "ipython",
    "version": 3
   },
   "file_extension": ".py",
   "mimetype": "text/x-python",
   "name": "python",
   "nbconvert_exporter": "python",
   "pygments_lexer": "ipython3",
   "version": "3.8.5"
  },
  "latex_envs": {
   "LaTeX_envs_menu_present": true,
   "autoclose": false,
   "autocomplete": true,
   "bibliofile": "biblio.bib",
   "cite_by": "apalike",
   "current_citInitial": 1,
   "eqLabelWithNumbers": true,
   "eqNumInitial": 1,
   "hotkeys": {
    "equation": "Ctrl-E",
    "itemize": "Ctrl-I"
   },
   "labels_anchors": false,
   "latex_user_defs": false,
   "report_style_numbering": false,
   "user_envs_cfg": false
  },
  "nteract": {
   "version": "0.12.3"
  }
 },
 "nbformat": 4,
 "nbformat_minor": 2
}
