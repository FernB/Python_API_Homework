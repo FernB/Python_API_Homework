{
 "cells": [
  {
   "cell_type": "markdown",
   "metadata": {},
   "source": [
    "# WeatherPy\n",
    "----\n",
    "\n",
    "#### Note\n",
    "* Instructions have been included for each segment. You do not have to follow them exactly, but they are included to help you think through the steps."
   ]
  },
  {
   "cell_type": "code",
   "execution_count": 1,
   "metadata": {
    "scrolled": true
   },
   "outputs": [],
   "source": [
    "#Dependencies\n",
    "import requests\n",
    "import random\n",
    "import numpy as np\n",
    "import pandas as pd\n",
    "from citipy import citipy\n",
    "# Import API key\n",
    "from api_keys import weather_api_key\n",
    "\n"
   ]
  },
  {
   "cell_type": "markdown",
   "metadata": {},
   "source": [
    "## Generate Cities List"
   ]
  },
  {
   "cell_type": "code",
   "execution_count": 2,
   "metadata": {},
   "outputs": [
    {
     "name": "stdout",
     "output_type": "stream",
     "text": [
      "['bredasdorp', 'pevek', 'norman wells', 'hare bay', 'fortuna', 'qaanaaq', 'illoqqortoormiut', 'san quintin', 'ushuaia', 'punta arenas']\n"
     ]
    },
    {
     "data": {
      "text/plain": [
       "10"
      ]
     },
     "execution_count": 2,
     "metadata": {},
     "output_type": "execute_result"
    }
   ],
   "source": [
    "#lat south - 90 eq 0 north 90 55 139   21\n",
    "#long -180 to 180\n",
    "cities = []\n",
    "while len(cities) < 10:\n",
    "    lat = round(np.random.uniform(-90.0, 90.0),2)\n",
    "    lon = round(np.random.uniform(-180.0, 180.0),2)\n",
    "    city = citipy.nearest_city(lat, lon).city_name\n",
    "    cities.append(city)\n",
    "    cities = list(set(cities))\n",
    "print(cities)\n",
    "len(list(set(cities)))"
   ]
  },
  {
   "cell_type": "markdown",
   "metadata": {},
   "source": [
    "### Perform API Calls\n",
    "* Perform a weather check on each city using a series of successive API calls.\n",
    "* Include a print log of each city as it'sbeing processed (with the city number and city name).\n"
   ]
  },
  {
   "cell_type": "code",
   "execution_count": null,
   "metadata": {},
   "outputs": [],
   "source": []
  },
  {
   "cell_type": "code",
   "execution_count": 3,
   "metadata": {
    "scrolled": true
   },
   "outputs": [
    {
     "name": "stdout",
     "output_type": "stream",
     "text": [
      "Begining of data retrieval/n-----------------\n",
      "Processing Record 1 of Set 10 | bredasdorp\n",
      "Processing Record 2 of Set 10 | pevek\n",
      "Processing Record 3 of Set 10 | norman wells\n",
      "Processing Record 4 of Set 10 | hare bay\n",
      "Processing Record 5 of Set 10 | fortuna\n",
      "Processing Record 6 of Set 10 | qaanaaq\n",
      "City not found. Skipping...\n",
      "Processing Record 7 of Set 10 | san quintin\n",
      "Processing Record 8 of Set 10 | ushuaia\n",
      "Processing Record 9 of Set 10 | punta arenas\n"
     ]
    }
   ],
   "source": [
    "\n",
    "print(\"Begining of data retrieval/n-----------------\")\n",
    "cities2 = []\n",
    "lat = []\n",
    "lon = []\n",
    "maxtemp = []\n",
    "humidity = []\n",
    "cloudiness =[]\n",
    "wind = []\n",
    "country = []\n",
    "date = []\n",
    "i = 1\n",
    "for city in cities:\n",
    "\n",
    "   \n",
    "    try:\n",
    "        url = f\"http://api.openweathermap.org/data/2.5/weather?q={city}&units=metric&appid={weather_api_key}\"  \n",
    "        data = requests.get(url).json()\n",
    "        lat.append(data[\"coord\"][\"lat\"])\n",
    "        lon.append(data[\"coord\"][\"lat\"])\n",
    "        maxtemp.append(data[\"main\"][\"temp_max\"])\n",
    "        humidity.append(data[\"main\"][\"humidity\"])\n",
    "        cloudiness.append(data[\"clouds\"][\"all\"])\n",
    "        wind.append(data[\"wind\"][\"speed\"])\n",
    "        country.append(data[\"sys\"][\"country\"])\n",
    "        date.append(data[\"dt\"])\n",
    "    except: \n",
    "        message = data[\"message\"]\n",
    "        print(f\"{message.capitalize()}. Skipping...\")     \n",
    "    else:\n",
    "        print(f\"Processing Record {i} of Set {len(cities)} | {city}\")\n",
    "        cities2.append(city)\n",
    "        i +=1\n",
    "        \n",
    "citiesdata = {\n",
    "    'City': cities2,\n",
    "    'Lat': lat, \n",
    "    'Lng': lon, \n",
    "    \"Max Temp\" : maxtemp, \n",
    "    \"Humidity\" : humidity, \n",
    "    \"Cloudiness\" : cloudiness, \n",
    "    \"Wind Speed\": wind, \n",
    "    \"Country\": country,\n",
    "    \"Date\" : date\n",
    "}\n",
    "# \"cod\":200\n",
    "\n",
    "# {\"cod\":\"404\",\"message\":\"city not found\"}"
   ]
  },
  {
   "cell_type": "markdown",
   "metadata": {},
   "source": [
    "### Convert Raw Data to DataFrame\n",
    "* Export the city data into a .csv.\n",
    "* Display the DataFrame"
   ]
  },
  {
   "cell_type": "code",
   "execution_count": 4,
   "metadata": {},
   "outputs": [
    {
     "name": "stdout",
     "output_type": "stream",
     "text": [
      "['bredasdorp', 'pevek', 'norman wells', 'hare bay', 'fortuna', 'qaanaaq', 'illoqqortoormiut', 'san quintin', 'ushuaia', 'punta arenas']\n",
      "{'City': ['bredasdorp', 'pevek', 'norman wells', 'hare bay', 'fortuna', 'qaanaaq', 'san quintin', 'ushuaia', 'punta arenas'], 'Lat': [-34.5322, 69.7008, 65.282, 48.8499, 40.5982, 77.484, 30.4833, -54.8, -53.15], 'Lng': [-34.5322, 69.7008, 65.282, 48.8499, 40.5982, 77.484, 30.4833, -54.8, -53.15], 'Max Temp': [17, -15.74, 3, -2, 6.67, -23.88, 12.97, 6, 5], 'Humidity': [88, 84, 65, 93, 100, 58, 75, 52, 87], 'Cloudiness': [75, 9, 20, 11, 1, 20, 100, 0, 100], 'Wind Speed': [1.03, 2.7, 1.09, 1.03, 3.6, 3.63, 5.55, 3.09, 3.6], 'Country': ['ZA', 'RU', 'CA', 'CA', 'US', 'GL', 'MX', 'AR', 'CL'], 'Date': [1618470471, 1618470713, 1618470713, 1618470713, 1618470713, 1618470714, 1618470714, 1618470714, 1618470715]}\n"
     ]
    }
   ],
   "source": [
    "print(cities)\n",
    "print(citiesdata)"
   ]
  },
  {
   "cell_type": "code",
   "execution_count": 5,
   "metadata": {},
   "outputs": [
    {
     "data": {
      "text/html": [
       "<div>\n",
       "<style scoped>\n",
       "    .dataframe tbody tr th:only-of-type {\n",
       "        vertical-align: middle;\n",
       "    }\n",
       "\n",
       "    .dataframe tbody tr th {\n",
       "        vertical-align: top;\n",
       "    }\n",
       "\n",
       "    .dataframe thead th {\n",
       "        text-align: right;\n",
       "    }\n",
       "</style>\n",
       "<table border=\"1\" class=\"dataframe\">\n",
       "  <thead>\n",
       "    <tr style=\"text-align: right;\">\n",
       "      <th></th>\n",
       "      <th>City</th>\n",
       "      <th>Lat</th>\n",
       "      <th>Lng</th>\n",
       "      <th>Max Temp</th>\n",
       "      <th>Humidity</th>\n",
       "      <th>Cloudiness</th>\n",
       "      <th>Wind Speed</th>\n",
       "      <th>Country</th>\n",
       "      <th>Date</th>\n",
       "    </tr>\n",
       "  </thead>\n",
       "  <tbody>\n",
       "    <tr>\n",
       "      <th>0</th>\n",
       "      <td>bredasdorp</td>\n",
       "      <td>-34.5322</td>\n",
       "      <td>-34.5322</td>\n",
       "      <td>17.00</td>\n",
       "      <td>88</td>\n",
       "      <td>75</td>\n",
       "      <td>1.03</td>\n",
       "      <td>ZA</td>\n",
       "      <td>1618470471</td>\n",
       "    </tr>\n",
       "    <tr>\n",
       "      <th>1</th>\n",
       "      <td>pevek</td>\n",
       "      <td>69.7008</td>\n",
       "      <td>69.7008</td>\n",
       "      <td>-15.74</td>\n",
       "      <td>84</td>\n",
       "      <td>9</td>\n",
       "      <td>2.70</td>\n",
       "      <td>RU</td>\n",
       "      <td>1618470713</td>\n",
       "    </tr>\n",
       "    <tr>\n",
       "      <th>2</th>\n",
       "      <td>norman wells</td>\n",
       "      <td>65.2820</td>\n",
       "      <td>65.2820</td>\n",
       "      <td>3.00</td>\n",
       "      <td>65</td>\n",
       "      <td>20</td>\n",
       "      <td>1.09</td>\n",
       "      <td>CA</td>\n",
       "      <td>1618470713</td>\n",
       "    </tr>\n",
       "    <tr>\n",
       "      <th>3</th>\n",
       "      <td>hare bay</td>\n",
       "      <td>48.8499</td>\n",
       "      <td>48.8499</td>\n",
       "      <td>-2.00</td>\n",
       "      <td>93</td>\n",
       "      <td>11</td>\n",
       "      <td>1.03</td>\n",
       "      <td>CA</td>\n",
       "      <td>1618470713</td>\n",
       "    </tr>\n",
       "    <tr>\n",
       "      <th>4</th>\n",
       "      <td>fortuna</td>\n",
       "      <td>40.5982</td>\n",
       "      <td>40.5982</td>\n",
       "      <td>6.67</td>\n",
       "      <td>100</td>\n",
       "      <td>1</td>\n",
       "      <td>3.60</td>\n",
       "      <td>US</td>\n",
       "      <td>1618470713</td>\n",
       "    </tr>\n",
       "  </tbody>\n",
       "</table>\n",
       "</div>"
      ],
      "text/plain": [
       "           City      Lat      Lng  Max Temp  Humidity  Cloudiness  Wind Speed  \\\n",
       "0    bredasdorp -34.5322 -34.5322     17.00        88          75        1.03   \n",
       "1         pevek  69.7008  69.7008    -15.74        84           9        2.70   \n",
       "2  norman wells  65.2820  65.2820      3.00        65          20        1.09   \n",
       "3      hare bay  48.8499  48.8499     -2.00        93          11        1.03   \n",
       "4       fortuna  40.5982  40.5982      6.67       100           1        3.60   \n",
       "\n",
       "  Country        Date  \n",
       "0      ZA  1618470471  \n",
       "1      RU  1618470713  \n",
       "2      CA  1618470713  \n",
       "3      CA  1618470713  \n",
       "4      US  1618470713  "
      ]
     },
     "execution_count": 5,
     "metadata": {},
     "output_type": "execute_result"
    }
   ],
   "source": [
    "df1 = pd.DataFrame(citiesdata)\n",
    "df1.head()"
   ]
  },
  {
   "cell_type": "code",
   "execution_count": null,
   "metadata": {},
   "outputs": [],
   "source": []
  },
  {
   "cell_type": "markdown",
   "metadata": {},
   "source": [
    "## Inspect the data and remove the cities where the humidity > 100%.\n",
    "----\n",
    "Skip this step if there are no cities that have humidity > 100%. "
   ]
  },
  {
   "cell_type": "code",
   "execution_count": 6,
   "metadata": {},
   "outputs": [
    {
     "name": "stdout",
     "output_type": "stream",
     "text": [
      "0\n"
     ]
    }
   ],
   "source": [
    "if len(df1[df1[\"Humidity\"]>100]) == 0:\n",
    "    print(0)\n",
    "else:\n",
    "    over100 = (df1[df1[\"Humidity\"]>100]).index\n",
    "    "
   ]
  },
  {
   "cell_type": "code",
   "execution_count": 8,
   "metadata": {},
   "outputs": [],
   "source": [
    "#  Get the indices of cities that have humidity over 100%.\n",
    "try:\n",
    "    clean_city_data = df1.loc[over100]\n",
    "except:\n",
    "    clean_city_data = df1"
   ]
  },
  {
   "cell_type": "code",
   "execution_count": 9,
   "metadata": {},
   "outputs": [
    {
     "data": {
      "text/html": [
       "<div>\n",
       "<style scoped>\n",
       "    .dataframe tbody tr th:only-of-type {\n",
       "        vertical-align: middle;\n",
       "    }\n",
       "\n",
       "    .dataframe tbody tr th {\n",
       "        vertical-align: top;\n",
       "    }\n",
       "\n",
       "    .dataframe thead th {\n",
       "        text-align: right;\n",
       "    }\n",
       "</style>\n",
       "<table border=\"1\" class=\"dataframe\">\n",
       "  <thead>\n",
       "    <tr style=\"text-align: right;\">\n",
       "      <th></th>\n",
       "      <th>City</th>\n",
       "      <th>Lat</th>\n",
       "      <th>Lng</th>\n",
       "      <th>Max Temp</th>\n",
       "      <th>Humidity</th>\n",
       "      <th>Cloudiness</th>\n",
       "      <th>Wind Speed</th>\n",
       "      <th>Country</th>\n",
       "      <th>Date</th>\n",
       "    </tr>\n",
       "  </thead>\n",
       "  <tbody>\n",
       "    <tr>\n",
       "      <th>0</th>\n",
       "      <td>bredasdorp</td>\n",
       "      <td>-34.5322</td>\n",
       "      <td>-34.5322</td>\n",
       "      <td>17.00</td>\n",
       "      <td>88</td>\n",
       "      <td>75</td>\n",
       "      <td>1.03</td>\n",
       "      <td>ZA</td>\n",
       "      <td>1618470471</td>\n",
       "    </tr>\n",
       "    <tr>\n",
       "      <th>1</th>\n",
       "      <td>pevek</td>\n",
       "      <td>69.7008</td>\n",
       "      <td>69.7008</td>\n",
       "      <td>-15.74</td>\n",
       "      <td>84</td>\n",
       "      <td>9</td>\n",
       "      <td>2.70</td>\n",
       "      <td>RU</td>\n",
       "      <td>1618470713</td>\n",
       "    </tr>\n",
       "    <tr>\n",
       "      <th>2</th>\n",
       "      <td>norman wells</td>\n",
       "      <td>65.2820</td>\n",
       "      <td>65.2820</td>\n",
       "      <td>3.00</td>\n",
       "      <td>65</td>\n",
       "      <td>20</td>\n",
       "      <td>1.09</td>\n",
       "      <td>CA</td>\n",
       "      <td>1618470713</td>\n",
       "    </tr>\n",
       "    <tr>\n",
       "      <th>3</th>\n",
       "      <td>hare bay</td>\n",
       "      <td>48.8499</td>\n",
       "      <td>48.8499</td>\n",
       "      <td>-2.00</td>\n",
       "      <td>93</td>\n",
       "      <td>11</td>\n",
       "      <td>1.03</td>\n",
       "      <td>CA</td>\n",
       "      <td>1618470713</td>\n",
       "    </tr>\n",
       "    <tr>\n",
       "      <th>4</th>\n",
       "      <td>fortuna</td>\n",
       "      <td>40.5982</td>\n",
       "      <td>40.5982</td>\n",
       "      <td>6.67</td>\n",
       "      <td>100</td>\n",
       "      <td>1</td>\n",
       "      <td>3.60</td>\n",
       "      <td>US</td>\n",
       "      <td>1618470713</td>\n",
       "    </tr>\n",
       "    <tr>\n",
       "      <th>5</th>\n",
       "      <td>qaanaaq</td>\n",
       "      <td>77.4840</td>\n",
       "      <td>77.4840</td>\n",
       "      <td>-23.88</td>\n",
       "      <td>58</td>\n",
       "      <td>20</td>\n",
       "      <td>3.63</td>\n",
       "      <td>GL</td>\n",
       "      <td>1618470714</td>\n",
       "    </tr>\n",
       "    <tr>\n",
       "      <th>6</th>\n",
       "      <td>san quintin</td>\n",
       "      <td>30.4833</td>\n",
       "      <td>30.4833</td>\n",
       "      <td>12.97</td>\n",
       "      <td>75</td>\n",
       "      <td>100</td>\n",
       "      <td>5.55</td>\n",
       "      <td>MX</td>\n",
       "      <td>1618470714</td>\n",
       "    </tr>\n",
       "    <tr>\n",
       "      <th>7</th>\n",
       "      <td>ushuaia</td>\n",
       "      <td>-54.8000</td>\n",
       "      <td>-54.8000</td>\n",
       "      <td>6.00</td>\n",
       "      <td>52</td>\n",
       "      <td>0</td>\n",
       "      <td>3.09</td>\n",
       "      <td>AR</td>\n",
       "      <td>1618470714</td>\n",
       "    </tr>\n",
       "    <tr>\n",
       "      <th>8</th>\n",
       "      <td>punta arenas</td>\n",
       "      <td>-53.1500</td>\n",
       "      <td>-53.1500</td>\n",
       "      <td>5.00</td>\n",
       "      <td>87</td>\n",
       "      <td>100</td>\n",
       "      <td>3.60</td>\n",
       "      <td>CL</td>\n",
       "      <td>1618470715</td>\n",
       "    </tr>\n",
       "  </tbody>\n",
       "</table>\n",
       "</div>"
      ],
      "text/plain": [
       "           City      Lat      Lng  Max Temp  Humidity  Cloudiness  Wind Speed  \\\n",
       "0    bredasdorp -34.5322 -34.5322     17.00        88          75        1.03   \n",
       "1         pevek  69.7008  69.7008    -15.74        84           9        2.70   \n",
       "2  norman wells  65.2820  65.2820      3.00        65          20        1.09   \n",
       "3      hare bay  48.8499  48.8499     -2.00        93          11        1.03   \n",
       "4       fortuna  40.5982  40.5982      6.67       100           1        3.60   \n",
       "5       qaanaaq  77.4840  77.4840    -23.88        58          20        3.63   \n",
       "6   san quintin  30.4833  30.4833     12.97        75         100        5.55   \n",
       "7       ushuaia -54.8000 -54.8000      6.00        52           0        3.09   \n",
       "8  punta arenas -53.1500 -53.1500      5.00        87         100        3.60   \n",
       "\n",
       "  Country        Date  \n",
       "0      ZA  1618470471  \n",
       "1      RU  1618470713  \n",
       "2      CA  1618470713  \n",
       "3      CA  1618470713  \n",
       "4      US  1618470713  \n",
       "5      GL  1618470714  \n",
       "6      MX  1618470714  \n",
       "7      AR  1618470714  \n",
       "8      CL  1618470715  "
      ]
     },
     "execution_count": 9,
     "metadata": {},
     "output_type": "execute_result"
    }
   ],
   "source": [
    "# Make a new DataFrame equal to the city data to drop all humidity outliers by index.\n",
    "# Passing \"inplace=False\" will make a copy of the city_data DataFrame, which we call \"clean_city_data\".\n",
    "\n",
    "clean_city_data"
   ]
  },
  {
   "cell_type": "code",
   "execution_count": null,
   "metadata": {},
   "outputs": [],
   "source": []
  },
  {
   "cell_type": "markdown",
   "metadata": {},
   "source": [
    "## Plotting the Data\n",
    "* Use proper labeling of the plots using plot titles (including date of analysis) and axes labels.\n",
    "* Save the plotted figures as .pngs."
   ]
  },
  {
   "cell_type": "markdown",
   "metadata": {},
   "source": [
    "## Latitude vs. Temperature Plot"
   ]
  },
  {
   "cell_type": "code",
   "execution_count": null,
   "metadata": {
    "scrolled": true
   },
   "outputs": [],
   "source": []
  },
  {
   "cell_type": "markdown",
   "metadata": {},
   "source": [
    "## Latitude vs. Humidity Plot"
   ]
  },
  {
   "cell_type": "code",
   "execution_count": null,
   "metadata": {},
   "outputs": [],
   "source": []
  },
  {
   "cell_type": "markdown",
   "metadata": {},
   "source": [
    "## Latitude vs. Cloudiness Plot"
   ]
  },
  {
   "cell_type": "code",
   "execution_count": null,
   "metadata": {},
   "outputs": [],
   "source": []
  },
  {
   "cell_type": "markdown",
   "metadata": {},
   "source": [
    "## Latitude vs. Wind Speed Plot"
   ]
  },
  {
   "cell_type": "code",
   "execution_count": null,
   "metadata": {},
   "outputs": [],
   "source": []
  },
  {
   "cell_type": "markdown",
   "metadata": {},
   "source": [
    "## Linear Regression"
   ]
  },
  {
   "cell_type": "code",
   "execution_count": null,
   "metadata": {},
   "outputs": [],
   "source": []
  },
  {
   "cell_type": "markdown",
   "metadata": {},
   "source": [
    "####  Northern Hemisphere - Max Temp vs. Latitude Linear Regression"
   ]
  },
  {
   "cell_type": "code",
   "execution_count": null,
   "metadata": {},
   "outputs": [],
   "source": []
  },
  {
   "cell_type": "markdown",
   "metadata": {},
   "source": [
    "####  Southern Hemisphere - Max Temp vs. Latitude Linear Regression"
   ]
  },
  {
   "cell_type": "code",
   "execution_count": null,
   "metadata": {},
   "outputs": [],
   "source": []
  },
  {
   "cell_type": "markdown",
   "metadata": {},
   "source": [
    "####  Northern Hemisphere - Humidity (%) vs. Latitude Linear Regression"
   ]
  },
  {
   "cell_type": "code",
   "execution_count": null,
   "metadata": {},
   "outputs": [],
   "source": []
  },
  {
   "cell_type": "markdown",
   "metadata": {},
   "source": [
    "####  Southern Hemisphere - Humidity (%) vs. Latitude Linear Regression"
   ]
  },
  {
   "cell_type": "code",
   "execution_count": null,
   "metadata": {},
   "outputs": [],
   "source": []
  },
  {
   "cell_type": "markdown",
   "metadata": {},
   "source": [
    "####  Northern Hemisphere - Cloudiness (%) vs. Latitude Linear Regression"
   ]
  },
  {
   "cell_type": "code",
   "execution_count": null,
   "metadata": {},
   "outputs": [],
   "source": []
  },
  {
   "cell_type": "markdown",
   "metadata": {},
   "source": [
    "####  Southern Hemisphere - Cloudiness (%) vs. Latitude Linear Regression"
   ]
  },
  {
   "cell_type": "code",
   "execution_count": null,
   "metadata": {},
   "outputs": [],
   "source": []
  },
  {
   "cell_type": "markdown",
   "metadata": {},
   "source": [
    "####  Northern Hemisphere - Wind Speed (mph) vs. Latitude Linear Regression"
   ]
  },
  {
   "cell_type": "code",
   "execution_count": null,
   "metadata": {},
   "outputs": [],
   "source": []
  },
  {
   "cell_type": "markdown",
   "metadata": {},
   "source": [
    "####  Southern Hemisphere - Wind Speed (mph) vs. Latitude Linear Regression"
   ]
  },
  {
   "cell_type": "code",
   "execution_count": null,
   "metadata": {},
   "outputs": [],
   "source": []
  },
  {
   "cell_type": "code",
   "execution_count": null,
   "metadata": {},
   "outputs": [],
   "source": []
  }
 ],
 "metadata": {
  "anaconda-cloud": {},
  "kernel_info": {
   "name": "python3"
  },
  "kernelspec": {
   "display_name": "Python 3",
   "language": "python",
   "name": "python3"
  },
  "language_info": {
   "codemirror_mode": {
    "name": "ipython",
    "version": 3
   },
   "file_extension": ".py",
   "mimetype": "text/x-python",
   "name": "python",
   "nbconvert_exporter": "python",
   "pygments_lexer": "ipython3",
   "version": "3.8.5"
  },
  "latex_envs": {
   "LaTeX_envs_menu_present": true,
   "autoclose": false,
   "autocomplete": true,
   "bibliofile": "biblio.bib",
   "cite_by": "apalike",
   "current_citInitial": 1,
   "eqLabelWithNumbers": true,
   "eqNumInitial": 1,
   "hotkeys": {
    "equation": "Ctrl-E",
    "itemize": "Ctrl-I"
   },
   "labels_anchors": false,
   "latex_user_defs": false,
   "report_style_numbering": false,
   "user_envs_cfg": false
  },
  "nteract": {
   "version": "0.12.3"
  }
 },
 "nbformat": 4,
 "nbformat_minor": 2
}
